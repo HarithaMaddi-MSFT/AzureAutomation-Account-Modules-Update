{
  "nbformat": 4,
  "nbformat_minor": 0,
  "metadata": {
    "colab": {
      "name": "QnAData.ipynb",
      "provenance": [],
      "collapsed_sections": [],
      "authorship_tag": "ABX9TyPHCDKXUl4p11uRgEB46sB0",
      "include_colab_link": true
    },
    "kernelspec": {
      "name": "python3",
      "display_name": "Python 3"
    }
  },
  "cells": [
    {
      "cell_type": "markdown",
      "metadata": {
        "id": "view-in-github",
        "colab_type": "text"
      },
      "source": [
        "<a href=\"https://colab.research.google.com/github/HarithaMaddi-MSFT/AzureAutomation-Account-Modules-Update/blob/master/QnAData.ipynb\" target=\"_parent\"><img src=\"https://colab.research.google.com/assets/colab-badge.svg\" alt=\"Open In Colab\"/></a>"
      ]
    },
    {
      "cell_type": "code",
      "metadata": {
        "id": "R_9MOAtxZuAJ",
        "outputId": "21fefdc6-409c-4464-8630-cd6a78f207aa",
        "colab": {
          "resources": {
            "http://localhost:8080/nbextensions/google.colab/files.js": {
              "data": "Ly8gQ29weXJpZ2h0IDIwMTcgR29vZ2xlIExMQwovLwovLyBMaWNlbnNlZCB1bmRlciB0aGUgQXBhY2hlIExpY2Vuc2UsIFZlcnNpb24gMi4wICh0aGUgIkxpY2Vuc2UiKTsKLy8geW91IG1heSBub3QgdXNlIHRoaXMgZmlsZSBleGNlcHQgaW4gY29tcGxpYW5jZSB3aXRoIHRoZSBMaWNlbnNlLgovLyBZb3UgbWF5IG9idGFpbiBhIGNvcHkgb2YgdGhlIExpY2Vuc2UgYXQKLy8KLy8gICAgICBodHRwOi8vd3d3LmFwYWNoZS5vcmcvbGljZW5zZXMvTElDRU5TRS0yLjAKLy8KLy8gVW5sZXNzIHJlcXVpcmVkIGJ5IGFwcGxpY2FibGUgbGF3IG9yIGFncmVlZCB0byBpbiB3cml0aW5nLCBzb2Z0d2FyZQovLyBkaXN0cmlidXRlZCB1bmRlciB0aGUgTGljZW5zZSBpcyBkaXN0cmlidXRlZCBvbiBhbiAiQVMgSVMiIEJBU0lTLAovLyBXSVRIT1VUIFdBUlJBTlRJRVMgT1IgQ09ORElUSU9OUyBPRiBBTlkgS0lORCwgZWl0aGVyIGV4cHJlc3Mgb3IgaW1wbGllZC4KLy8gU2VlIHRoZSBMaWNlbnNlIGZvciB0aGUgc3BlY2lmaWMgbGFuZ3VhZ2UgZ292ZXJuaW5nIHBlcm1pc3Npb25zIGFuZAovLyBsaW1pdGF0aW9ucyB1bmRlciB0aGUgTGljZW5zZS4KCi8qKgogKiBAZmlsZW92ZXJ2aWV3IEhlbHBlcnMgZm9yIGdvb2dsZS5jb2xhYiBQeXRob24gbW9kdWxlLgogKi8KKGZ1bmN0aW9uKHNjb3BlKSB7CmZ1bmN0aW9uIHNwYW4odGV4dCwgc3R5bGVBdHRyaWJ1dGVzID0ge30pIHsKICBjb25zdCBlbGVtZW50ID0gZG9jdW1lbnQuY3JlYXRlRWxlbWVudCgnc3BhbicpOwogIGVsZW1lbnQudGV4dENvbnRlbnQgPSB0ZXh0OwogIGZvciAoY29uc3Qga2V5IG9mIE9iamVjdC5rZXlzKHN0eWxlQXR0cmlidXRlcykpIHsKICAgIGVsZW1lbnQuc3R5bGVba2V5XSA9IHN0eWxlQXR0cmlidXRlc1trZXldOwogIH0KICByZXR1cm4gZWxlbWVudDsKfQoKLy8gTWF4IG51bWJlciBvZiBieXRlcyB3aGljaCB3aWxsIGJlIHVwbG9hZGVkIGF0IGEgdGltZS4KY29uc3QgTUFYX1BBWUxPQURfU0laRSA9IDEwMCAqIDEwMjQ7CgpmdW5jdGlvbiBfdXBsb2FkRmlsZXMoaW5wdXRJZCwgb3V0cHV0SWQpIHsKICBjb25zdCBzdGVwcyA9IHVwbG9hZEZpbGVzU3RlcChpbnB1dElkLCBvdXRwdXRJZCk7CiAgY29uc3Qgb3V0cHV0RWxlbWVudCA9IGRvY3VtZW50LmdldEVsZW1lbnRCeUlkKG91dHB1dElkKTsKICAvLyBDYWNoZSBzdGVwcyBvbiB0aGUgb3V0cHV0RWxlbWVudCB0byBtYWtlIGl0IGF2YWlsYWJsZSBmb3IgdGhlIG5leHQgY2FsbAogIC8vIHRvIHVwbG9hZEZpbGVzQ29udGludWUgZnJvbSBQeXRob24uCiAgb3V0cHV0RWxlbWVudC5zdGVwcyA9IHN0ZXBzOwoKICByZXR1cm4gX3VwbG9hZEZpbGVzQ29udGludWUob3V0cHV0SWQpOwp9CgovLyBUaGlzIGlzIHJvdWdobHkgYW4gYXN5bmMgZ2VuZXJhdG9yIChub3Qgc3VwcG9ydGVkIGluIHRoZSBicm93c2VyIHlldCksCi8vIHdoZXJlIHRoZXJlIGFyZSBtdWx0aXBsZSBhc3luY2hyb25vdXMgc3RlcHMgYW5kIHRoZSBQeXRob24gc2lkZSBpcyBnb2luZwovLyB0byBwb2xsIGZvciBjb21wbGV0aW9uIG9mIGVhY2ggc3RlcC4KLy8gVGhpcyB1c2VzIGEgUHJvbWlzZSB0byBibG9jayB0aGUgcHl0aG9uIHNpZGUgb24gY29tcGxldGlvbiBvZiBlYWNoIHN0ZXAsCi8vIHRoZW4gcGFzc2VzIHRoZSByZXN1bHQgb2YgdGhlIHByZXZpb3VzIHN0ZXAgYXMgdGhlIGlucHV0IHRvIHRoZSBuZXh0IHN0ZXAuCmZ1bmN0aW9uIF91cGxvYWRGaWxlc0NvbnRpbnVlKG91dHB1dElkKSB7CiAgY29uc3Qgb3V0cHV0RWxlbWVudCA9IGRvY3VtZW50LmdldEVsZW1lbnRCeUlkKG91dHB1dElkKTsKICBjb25zdCBzdGVwcyA9IG91dHB1dEVsZW1lbnQuc3RlcHM7CgogIGNvbnN0IG5leHQgPSBzdGVwcy5uZXh0KG91dHB1dEVsZW1lbnQubGFzdFByb21pc2VWYWx1ZSk7CiAgcmV0dXJuIFByb21pc2UucmVzb2x2ZShuZXh0LnZhbHVlLnByb21pc2UpLnRoZW4oKHZhbHVlKSA9PiB7CiAgICAvLyBDYWNoZSB0aGUgbGFzdCBwcm9taXNlIHZhbHVlIHRvIG1ha2UgaXQgYXZhaWxhYmxlIHRvIHRoZSBuZXh0CiAgICAvLyBzdGVwIG9mIHRoZSBnZW5lcmF0b3IuCiAgICBvdXRwdXRFbGVtZW50Lmxhc3RQcm9taXNlVmFsdWUgPSB2YWx1ZTsKICAgIHJldHVybiBuZXh0LnZhbHVlLnJlc3BvbnNlOwogIH0pOwp9CgovKioKICogR2VuZXJhdG9yIGZ1bmN0aW9uIHdoaWNoIGlzIGNhbGxlZCBiZXR3ZWVuIGVhY2ggYXN5bmMgc3RlcCBvZiB0aGUgdXBsb2FkCiAqIHByb2Nlc3MuCiAqIEBwYXJhbSB7c3RyaW5nfSBpbnB1dElkIEVsZW1lbnQgSUQgb2YgdGhlIGlucHV0IGZpbGUgcGlja2VyIGVsZW1lbnQuCiAqIEBwYXJhbSB7c3RyaW5nfSBvdXRwdXRJZCBFbGVtZW50IElEIG9mIHRoZSBvdXRwdXQgZGlzcGxheS4KICogQHJldHVybiB7IUl0ZXJhYmxlPCFPYmplY3Q+fSBJdGVyYWJsZSBvZiBuZXh0IHN0ZXBzLgogKi8KZnVuY3Rpb24qIHVwbG9hZEZpbGVzU3RlcChpbnB1dElkLCBvdXRwdXRJZCkgewogIGNvbnN0IGlucHV0RWxlbWVudCA9IGRvY3VtZW50LmdldEVsZW1lbnRCeUlkKGlucHV0SWQpOwogIGlucHV0RWxlbWVudC5kaXNhYmxlZCA9IGZhbHNlOwoKICBjb25zdCBvdXRwdXRFbGVtZW50ID0gZG9jdW1lbnQuZ2V0RWxlbWVudEJ5SWQob3V0cHV0SWQpOwogIG91dHB1dEVsZW1lbnQuaW5uZXJIVE1MID0gJyc7CgogIGNvbnN0IHBpY2tlZFByb21pc2UgPSBuZXcgUHJvbWlzZSgocmVzb2x2ZSkgPT4gewogICAgaW5wdXRFbGVtZW50LmFkZEV2ZW50TGlzdGVuZXIoJ2NoYW5nZScsIChlKSA9PiB7CiAgICAgIHJlc29sdmUoZS50YXJnZXQuZmlsZXMpOwogICAgfSk7CiAgfSk7CgogIGNvbnN0IGNhbmNlbCA9IGRvY3VtZW50LmNyZWF0ZUVsZW1lbnQoJ2J1dHRvbicpOwogIGlucHV0RWxlbWVudC5wYXJlbnRFbGVtZW50LmFwcGVuZENoaWxkKGNhbmNlbCk7CiAgY2FuY2VsLnRleHRDb250ZW50ID0gJ0NhbmNlbCB1cGxvYWQnOwogIGNvbnN0IGNhbmNlbFByb21pc2UgPSBuZXcgUHJvbWlzZSgocmVzb2x2ZSkgPT4gewogICAgY2FuY2VsLm9uY2xpY2sgPSAoKSA9PiB7CiAgICAgIHJlc29sdmUobnVsbCk7CiAgICB9OwogIH0pOwoKICAvLyBXYWl0IGZvciB0aGUgdXNlciB0byBwaWNrIHRoZSBmaWxlcy4KICBjb25zdCBmaWxlcyA9IHlpZWxkIHsKICAgIHByb21pc2U6IFByb21pc2UucmFjZShbcGlja2VkUHJvbWlzZSwgY2FuY2VsUHJvbWlzZV0pLAogICAgcmVzcG9uc2U6IHsKICAgICAgYWN0aW9uOiAnc3RhcnRpbmcnLAogICAgfQogIH07CgogIGNhbmNlbC5yZW1vdmUoKTsKCiAgLy8gRGlzYWJsZSB0aGUgaW5wdXQgZWxlbWVudCBzaW5jZSBmdXJ0aGVyIHBpY2tzIGFyZSBub3QgYWxsb3dlZC4KICBpbnB1dEVsZW1lbnQuZGlzYWJsZWQgPSB0cnVlOwoKICBpZiAoIWZpbGVzKSB7CiAgICByZXR1cm4gewogICAgICByZXNwb25zZTogewogICAgICAgIGFjdGlvbjogJ2NvbXBsZXRlJywKICAgICAgfQogICAgfTsKICB9CgogIGZvciAoY29uc3QgZmlsZSBvZiBmaWxlcykgewogICAgY29uc3QgbGkgPSBkb2N1bWVudC5jcmVhdGVFbGVtZW50KCdsaScpOwogICAgbGkuYXBwZW5kKHNwYW4oZmlsZS5uYW1lLCB7Zm9udFdlaWdodDogJ2JvbGQnfSkpOwogICAgbGkuYXBwZW5kKHNwYW4oCiAgICAgICAgYCgke2ZpbGUudHlwZSB8fCAnbi9hJ30pIC0gJHtmaWxlLnNpemV9IGJ5dGVzLCBgICsKICAgICAgICBgbGFzdCBtb2RpZmllZDogJHsKICAgICAgICAgICAgZmlsZS5sYXN0TW9kaWZpZWREYXRlID8gZmlsZS5sYXN0TW9kaWZpZWREYXRlLnRvTG9jYWxlRGF0ZVN0cmluZygpIDoKICAgICAgICAgICAgICAgICAgICAgICAgICAgICAgICAgICAgJ24vYSd9IC0gYCkpOwogICAgY29uc3QgcGVyY2VudCA9IHNwYW4oJzAlIGRvbmUnKTsKICAgIGxpLmFwcGVuZENoaWxkKHBlcmNlbnQpOwoKICAgIG91dHB1dEVsZW1lbnQuYXBwZW5kQ2hpbGQobGkpOwoKICAgIGNvbnN0IGZpbGVEYXRhUHJvbWlzZSA9IG5ldyBQcm9taXNlKChyZXNvbHZlKSA9PiB7CiAgICAgIGNvbnN0IHJlYWRlciA9IG5ldyBGaWxlUmVhZGVyKCk7CiAgICAgIHJlYWRlci5vbmxvYWQgPSAoZSkgPT4gewogICAgICAgIHJlc29sdmUoZS50YXJnZXQucmVzdWx0KTsKICAgICAgfTsKICAgICAgcmVhZGVyLnJlYWRBc0FycmF5QnVmZmVyKGZpbGUpOwogICAgfSk7CiAgICAvLyBXYWl0IGZvciB0aGUgZGF0YSB0byBiZSByZWFkeS4KICAgIGxldCBmaWxlRGF0YSA9IHlpZWxkIHsKICAgICAgcHJvbWlzZTogZmlsZURhdGFQcm9taXNlLAogICAgICByZXNwb25zZTogewogICAgICAgIGFjdGlvbjogJ2NvbnRpbnVlJywKICAgICAgfQogICAgfTsKCiAgICAvLyBVc2UgYSBjaHVua2VkIHNlbmRpbmcgdG8gYXZvaWQgbWVzc2FnZSBzaXplIGxpbWl0cy4gU2VlIGIvNjIxMTU2NjAuCiAgICBsZXQgcG9zaXRpb24gPSAwOwogICAgd2hpbGUgKHBvc2l0aW9uIDwgZmlsZURhdGEuYnl0ZUxlbmd0aCkgewogICAgICBjb25zdCBsZW5ndGggPSBNYXRoLm1pbihmaWxlRGF0YS5ieXRlTGVuZ3RoIC0gcG9zaXRpb24sIE1BWF9QQVlMT0FEX1NJWkUpOwogICAgICBjb25zdCBjaHVuayA9IG5ldyBVaW50OEFycmF5KGZpbGVEYXRhLCBwb3NpdGlvbiwgbGVuZ3RoKTsKICAgICAgcG9zaXRpb24gKz0gbGVuZ3RoOwoKICAgICAgY29uc3QgYmFzZTY0ID0gYnRvYShTdHJpbmcuZnJvbUNoYXJDb2RlLmFwcGx5KG51bGwsIGNodW5rKSk7CiAgICAgIHlpZWxkIHsKICAgICAgICByZXNwb25zZTogewogICAgICAgICAgYWN0aW9uOiAnYXBwZW5kJywKICAgICAgICAgIGZpbGU6IGZpbGUubmFtZSwKICAgICAgICAgIGRhdGE6IGJhc2U2NCwKICAgICAgICB9LAogICAgICB9OwogICAgICBwZXJjZW50LnRleHRDb250ZW50ID0KICAgICAgICAgIGAke01hdGgucm91bmQoKHBvc2l0aW9uIC8gZmlsZURhdGEuYnl0ZUxlbmd0aCkgKiAxMDApfSUgZG9uZWA7CiAgICB9CiAgfQoKICAvLyBBbGwgZG9uZS4KICB5aWVsZCB7CiAgICByZXNwb25zZTogewogICAgICBhY3Rpb246ICdjb21wbGV0ZScsCiAgICB9CiAgfTsKfQoKc2NvcGUuZ29vZ2xlID0gc2NvcGUuZ29vZ2xlIHx8IHt9OwpzY29wZS5nb29nbGUuY29sYWIgPSBzY29wZS5nb29nbGUuY29sYWIgfHwge307CnNjb3BlLmdvb2dsZS5jb2xhYi5fZmlsZXMgPSB7CiAgX3VwbG9hZEZpbGVzLAogIF91cGxvYWRGaWxlc0NvbnRpbnVlLAp9Owp9KShzZWxmKTsK",
              "ok": true,
              "headers": [
                [
                  "content-type",
                  "application/javascript"
                ]
              ],
              "status": 200,
              "status_text": ""
            }
          },
          "base_uri": "https://localhost:8080/",
          "height": 73
        }
      },
      "source": [
        "import pandas as pd\n",
        "from google.colab import files\n",
        "uploaded = files.upload()"
      ],
      "execution_count": 1,
      "outputs": [
        {
          "output_type": "display_data",
          "data": {
            "text/html": [
              "\n",
              "     <input type=\"file\" id=\"files-cdb023b7-1d97-43c0-9df2-a76f15e3deb1\" name=\"files[]\" multiple disabled\n",
              "        style=\"border:none\" />\n",
              "     <output id=\"result-cdb023b7-1d97-43c0-9df2-a76f15e3deb1\">\n",
              "      Upload widget is only available when the cell has been executed in the\n",
              "      current browser session. Please rerun this cell to enable.\n",
              "      </output>\n",
              "      <script src=\"/nbextensions/google.colab/files.js\"></script> "
            ],
            "text/plain": [
              "<IPython.core.display.HTML object>"
            ]
          },
          "metadata": {
            "tags": []
          }
        },
        {
          "output_type": "stream",
          "text": [
            "Saving QnAReducedData.csv to QnAReducedData.csv\n"
          ],
          "name": "stdout"
        }
      ]
    },
    {
      "cell_type": "code",
      "metadata": {
        "id": "rAYbOYICeYLn"
      },
      "source": [
        "import io\n",
        "inputdf = pd.read_csv(io.BytesIO(uploaded['QnAReducedData.csv']))"
      ],
      "execution_count": 2,
      "outputs": []
    },
    {
      "cell_type": "code",
      "metadata": {
        "id": "xfty5O8Beel_",
        "outputId": "68de8837-51ea-4eee-a7ce-aab766b3c851",
        "colab": {
          "base_uri": "https://localhost:8080/",
          "height": 402
        }
      },
      "source": [
        "inputdf.columns = inputdf.columns.str.replace(\" \",\"\")\n",
        "inputdf"
      ],
      "execution_count": 3,
      "outputs": [
        {
          "output_type": "execute_result",
          "data": {
            "text/html": [
              "<div>\n",
              "<style scoped>\n",
              "    .dataframe tbody tr th:only-of-type {\n",
              "        vertical-align: middle;\n",
              "    }\n",
              "\n",
              "    .dataframe tbody tr th {\n",
              "        vertical-align: top;\n",
              "    }\n",
              "\n",
              "    .dataframe thead th {\n",
              "        text-align: right;\n",
              "    }\n",
              "</style>\n",
              "<table border=\"1\" class=\"dataframe\">\n",
              "  <thead>\n",
              "    <tr style=\"text-align: right;\">\n",
              "      <th></th>\n",
              "      <th>id</th>\n",
              "      <th>title</th>\n",
              "      <th>content</th>\n",
              "      <th>tag1</th>\n",
              "    </tr>\n",
              "  </thead>\n",
              "  <tbody>\n",
              "    <tr>\n",
              "      <th>0</th>\n",
              "      <td>MicrosoftQnA_21855</td>\n",
              "      <td>S/Mime AzuerAD/ Office 365</td>\n",
              "      <td>&lt;p&gt;Hello,&lt;/p&gt; &lt;p&gt;I would like to implement S/M...</td>\n",
              "      <td>azure-active-directory</td>\n",
              "    </tr>\n",
              "    <tr>\n",
              "      <th>1</th>\n",
              "      <td>MicrosoftQnA_21869</td>\n",
              "      <td>Azure AD SAML IDP provider with relay state</td>\n",
              "      <td>&lt;p&gt;We can federate a domain on AAD and configu...</td>\n",
              "      <td>azure-active-directory</td>\n",
              "    </tr>\n",
              "    <tr>\n",
              "      <th>2</th>\n",
              "      <td>MicrosoftQnA_2189</td>\n",
              "      <td>Script is disabled. Click Submit to continue.</td>\n",
              "      <td>&lt;p&gt;I am working with a WebTest to mimic Azure ...</td>\n",
              "      <td>azure-active-directory</td>\n",
              "    </tr>\n",
              "    <tr>\n",
              "      <th>3</th>\n",
              "      <td>MicrosoftQnA_2190</td>\n",
              "      <td>Azure B2C securing metadata endpoint.</td>\n",
              "      <td>&lt;p&gt;Does Azure B2C support custom policy metada...</td>\n",
              "      <td>azure-active-directory</td>\n",
              "    </tr>\n",
              "    <tr>\n",
              "      <th>4</th>\n",
              "      <td>MicrosoftQnA_21936</td>\n",
              "      <td>AAD Users for Accounts that Have Pre-Existing ...</td>\n",
              "      <td>&lt;p&gt;Hello,&lt;/p&gt;  &lt;p&gt;I have an interesting proble...</td>\n",
              "      <td>azure-active-directory</td>\n",
              "    </tr>\n",
              "    <tr>\n",
              "      <th>...</th>\n",
              "      <td>...</td>\n",
              "      <td>...</td>\n",
              "      <td>...</td>\n",
              "      <td>...</td>\n",
              "    </tr>\n",
              "    <tr>\n",
              "      <th>2582</th>\n",
              "      <td>MicrosoftQnA_9842</td>\n",
              "      <td>Question about UWP and broadFileSystemAccess</td>\n",
              "      <td>&lt;p&gt;I have a UWP app that needs full access to ...</td>\n",
              "      <td>uwp</td>\n",
              "    </tr>\n",
              "    <tr>\n",
              "      <th>2583</th>\n",
              "      <td>MicrosoftQnA_9856</td>\n",
              "      <td>x:Uid cache</td>\n",
              "      <td>&lt;p&gt;Hi, &lt;/p&gt; &lt;p&gt;Is there some way to disable or...</td>\n",
              "      <td>uwp</td>\n",
              "    </tr>\n",
              "    <tr>\n",
              "      <th>2584</th>\n",
              "      <td>MicrosoftQnA_9903</td>\n",
              "      <td>is there a way to force loading a StorageFile ...</td>\n",
              "      <td>&lt;p&gt;I have a StorageFile that I want to use as ...</td>\n",
              "      <td>uwp</td>\n",
              "    </tr>\n",
              "    <tr>\n",
              "      <th>2585</th>\n",
              "      <td>MicrosoftQnA_9913</td>\n",
              "      <td>How to set background color on TextBlock</td>\n",
              "      <td>&lt;p&gt;How can the background color on a TextBlock...</td>\n",
              "      <td>uwp</td>\n",
              "    </tr>\n",
              "    <tr>\n",
              "      <th>2586</th>\n",
              "      <td>MicrosoftQnA_9933</td>\n",
              "      <td>Use external display in direct mode in UWP</td>\n",
              "      <td>&lt;p&gt;Hi,&lt;/p&gt; &lt;p&gt;I am looking for a solution on h...</td>\n",
              "      <td>uwp</td>\n",
              "    </tr>\n",
              "  </tbody>\n",
              "</table>\n",
              "<p>2587 rows × 4 columns</p>\n",
              "</div>"
            ],
            "text/plain": [
              "                      id  ...                          tag1\n",
              "0     MicrosoftQnA_21855  ...      azure-active-directory  \n",
              "1     MicrosoftQnA_21869  ...      azure-active-directory  \n",
              "2      MicrosoftQnA_2189  ...      azure-active-directory  \n",
              "3      MicrosoftQnA_2190  ...      azure-active-directory  \n",
              "4     MicrosoftQnA_21936  ...      azure-active-directory  \n",
              "...                  ...  ...                           ...\n",
              "2582   MicrosoftQnA_9842  ...                         uwp  \n",
              "2583   MicrosoftQnA_9856  ...                         uwp  \n",
              "2584   MicrosoftQnA_9903  ...                         uwp  \n",
              "2585   MicrosoftQnA_9913  ...                         uwp  \n",
              "2586   MicrosoftQnA_9933  ...                         uwp  \n",
              "\n",
              "[2587 rows x 4 columns]"
            ]
          },
          "metadata": {
            "tags": []
          },
          "execution_count": 3
        }
      ]
    },
    {
      "cell_type": "code",
      "metadata": {
        "id": "B8-v8GR7egPs"
      },
      "source": [
        "def remove_tags(string):\n",
        "    result = re.sub('<.*?>','',str(string))\n",
        "    return result"
      ],
      "execution_count": 4,
      "outputs": []
    },
    {
      "cell_type": "code",
      "metadata": {
        "id": "3XOQZ6D8gpws",
        "outputId": "76bff955-3d1c-46a2-91e0-797abb1b5aaa",
        "colab": {
          "base_uri": "https://localhost:8080/",
          "height": 435
        }
      },
      "source": [
        "import re\n",
        "inputdf['content_withouttags']=inputdf['content'].apply(lambda cw : remove_tags(cw))\n",
        "print(\"\\nSentences without tags':\")\n",
        "inputdf"
      ],
      "execution_count": 5,
      "outputs": [
        {
          "output_type": "stream",
          "text": [
            "\n",
            "Sentences without tags':\n"
          ],
          "name": "stdout"
        },
        {
          "output_type": "execute_result",
          "data": {
            "text/html": [
              "<div>\n",
              "<style scoped>\n",
              "    .dataframe tbody tr th:only-of-type {\n",
              "        vertical-align: middle;\n",
              "    }\n",
              "\n",
              "    .dataframe tbody tr th {\n",
              "        vertical-align: top;\n",
              "    }\n",
              "\n",
              "    .dataframe thead th {\n",
              "        text-align: right;\n",
              "    }\n",
              "</style>\n",
              "<table border=\"1\" class=\"dataframe\">\n",
              "  <thead>\n",
              "    <tr style=\"text-align: right;\">\n",
              "      <th></th>\n",
              "      <th>id</th>\n",
              "      <th>title</th>\n",
              "      <th>content</th>\n",
              "      <th>tag1</th>\n",
              "      <th>content_withouttags</th>\n",
              "    </tr>\n",
              "  </thead>\n",
              "  <tbody>\n",
              "    <tr>\n",
              "      <th>0</th>\n",
              "      <td>MicrosoftQnA_21855</td>\n",
              "      <td>S/Mime AzuerAD/ Office 365</td>\n",
              "      <td>&lt;p&gt;Hello,&lt;/p&gt; &lt;p&gt;I would like to implement S/M...</td>\n",
              "      <td>azure-active-directory</td>\n",
              "      <td>Hello, I would like to implement S/Mime in a p...</td>\n",
              "    </tr>\n",
              "    <tr>\n",
              "      <th>1</th>\n",
              "      <td>MicrosoftQnA_21869</td>\n",
              "      <td>Azure AD SAML IDP provider with relay state</td>\n",
              "      <td>&lt;p&gt;We can federate a domain on AAD and configu...</td>\n",
              "      <td>azure-active-directory</td>\n",
              "      <td>We can federate a domain on AAD and configure ...</td>\n",
              "    </tr>\n",
              "    <tr>\n",
              "      <th>2</th>\n",
              "      <td>MicrosoftQnA_2189</td>\n",
              "      <td>Script is disabled. Click Submit to continue.</td>\n",
              "      <td>&lt;p&gt;I am working with a WebTest to mimic Azure ...</td>\n",
              "      <td>azure-active-directory</td>\n",
              "      <td>I am working with a WebTest to mimic Azure AD ...</td>\n",
              "    </tr>\n",
              "    <tr>\n",
              "      <th>3</th>\n",
              "      <td>MicrosoftQnA_2190</td>\n",
              "      <td>Azure B2C securing metadata endpoint.</td>\n",
              "      <td>&lt;p&gt;Does Azure B2C support custom policy metada...</td>\n",
              "      <td>azure-active-directory</td>\n",
              "      <td>Does Azure B2C support custom policy metadata ...</td>\n",
              "    </tr>\n",
              "    <tr>\n",
              "      <th>4</th>\n",
              "      <td>MicrosoftQnA_21936</td>\n",
              "      <td>AAD Users for Accounts that Have Pre-Existing ...</td>\n",
              "      <td>&lt;p&gt;Hello,&lt;/p&gt;  &lt;p&gt;I have an interesting proble...</td>\n",
              "      <td>azure-active-directory</td>\n",
              "      <td>Hello,  I have an interesting problem to share...</td>\n",
              "    </tr>\n",
              "    <tr>\n",
              "      <th>...</th>\n",
              "      <td>...</td>\n",
              "      <td>...</td>\n",
              "      <td>...</td>\n",
              "      <td>...</td>\n",
              "      <td>...</td>\n",
              "    </tr>\n",
              "    <tr>\n",
              "      <th>2582</th>\n",
              "      <td>MicrosoftQnA_9842</td>\n",
              "      <td>Question about UWP and broadFileSystemAccess</td>\n",
              "      <td>&lt;p&gt;I have a UWP app that needs full access to ...</td>\n",
              "      <td>uwp</td>\n",
              "      <td>I have a UWP app that needs full access to the...</td>\n",
              "    </tr>\n",
              "    <tr>\n",
              "      <th>2583</th>\n",
              "      <td>MicrosoftQnA_9856</td>\n",
              "      <td>x:Uid cache</td>\n",
              "      <td>&lt;p&gt;Hi, &lt;/p&gt; &lt;p&gt;Is there some way to disable or...</td>\n",
              "      <td>uwp</td>\n",
              "      <td>Hi,  Is there some way to disable or reliably ...</td>\n",
              "    </tr>\n",
              "    <tr>\n",
              "      <th>2584</th>\n",
              "      <td>MicrosoftQnA_9903</td>\n",
              "      <td>is there a way to force loading a StorageFile ...</td>\n",
              "      <td>&lt;p&gt;I have a StorageFile that I want to use as ...</td>\n",
              "      <td>uwp</td>\n",
              "      <td>I have a StorageFile that I want to use as inp...</td>\n",
              "    </tr>\n",
              "    <tr>\n",
              "      <th>2585</th>\n",
              "      <td>MicrosoftQnA_9913</td>\n",
              "      <td>How to set background color on TextBlock</td>\n",
              "      <td>&lt;p&gt;How can the background color on a TextBlock...</td>\n",
              "      <td>uwp</td>\n",
              "      <td>How can the background color on a TextBlock co...</td>\n",
              "    </tr>\n",
              "    <tr>\n",
              "      <th>2586</th>\n",
              "      <td>MicrosoftQnA_9933</td>\n",
              "      <td>Use external display in direct mode in UWP</td>\n",
              "      <td>&lt;p&gt;Hi,&lt;/p&gt; &lt;p&gt;I am looking for a solution on h...</td>\n",
              "      <td>uwp</td>\n",
              "      <td>Hi, I am looking for a solution on how to dire...</td>\n",
              "    </tr>\n",
              "  </tbody>\n",
              "</table>\n",
              "<p>2587 rows × 5 columns</p>\n",
              "</div>"
            ],
            "text/plain": [
              "                      id  ...                                content_withouttags\n",
              "0     MicrosoftQnA_21855  ...  Hello, I would like to implement S/Mime in a p...\n",
              "1     MicrosoftQnA_21869  ...  We can federate a domain on AAD and configure ...\n",
              "2      MicrosoftQnA_2189  ...  I am working with a WebTest to mimic Azure AD ...\n",
              "3      MicrosoftQnA_2190  ...  Does Azure B2C support custom policy metadata ...\n",
              "4     MicrosoftQnA_21936  ...  Hello,  I have an interesting problem to share...\n",
              "...                  ...  ...                                                ...\n",
              "2582   MicrosoftQnA_9842  ...  I have a UWP app that needs full access to the...\n",
              "2583   MicrosoftQnA_9856  ...  Hi,  Is there some way to disable or reliably ...\n",
              "2584   MicrosoftQnA_9903  ...  I have a StorageFile that I want to use as inp...\n",
              "2585   MicrosoftQnA_9913  ...  How can the background color on a TextBlock co...\n",
              "2586   MicrosoftQnA_9933  ...  Hi, I am looking for a solution on how to dire...\n",
              "\n",
              "[2587 rows x 5 columns]"
            ]
          },
          "metadata": {
            "tags": []
          },
          "execution_count": 5
        }
      ]
    },
    {
      "cell_type": "code",
      "metadata": {
        "id": "H0EZXi0flUII",
        "outputId": "b5579ad3-221a-4f76-d984-e8879b0212c6",
        "colab": {
          "base_uri": "https://localhost:8080/",
          "height": 195
        }
      },
      "source": [
        "#inputdf['tagswithoutbrackets'] = inputdf['tags'].str.strip('[]')\n",
        "inputdf['tag1'] = inputdf['tag1'].str.replace('\"','')\n",
        "inputdf['tag1'] = inputdf['tag1'].str.replace(\"'\",\"\")\n",
        "inputdf['tag1'] = inputdf['tag1'].str.lower()\n",
        "inputdf['content_withouttags'] = inputdf['content_withouttags'].str.lower()\n",
        "#inputdf[['Tag1','Tag2','Tag3','Tag4','Tag5']] = inputdf.tagswithoutbrackets.str.split(\",\",expand=True,)\n",
        "inputdf.columns = inputdf.columns.str.replace(\" \",\"\")\n",
        "inputdf['tag1'] = inputdf['tag1'].str.rstrip()\n",
        "inputdf['tag1'] = inputdf['tag1'].str.lstrip()\n",
        "#inputdf['Tag2'] = inputdf['Tag2'].str.rstrip()\n",
        "#inputdf['Tag2'] = inputdf['Tag2'].str.lstrip()\n",
        "#inputdf['Tag3'] = inputdf['Tag3'].str.rstrip()\n",
        "#inputdf['Tag3'] = inputdf['Tag3'].str.lstrip()\n",
        "inputdf.groupby('tag1').count()\n"
      ],
      "execution_count": 6,
      "outputs": [
        {
          "output_type": "execute_result",
          "data": {
            "text/html": [
              "<div>\n",
              "<style scoped>\n",
              "    .dataframe tbody tr th:only-of-type {\n",
              "        vertical-align: middle;\n",
              "    }\n",
              "\n",
              "    .dataframe tbody tr th {\n",
              "        vertical-align: top;\n",
              "    }\n",
              "\n",
              "    .dataframe thead th {\n",
              "        text-align: right;\n",
              "    }\n",
              "</style>\n",
              "<table border=\"1\" class=\"dataframe\">\n",
              "  <thead>\n",
              "    <tr style=\"text-align: right;\">\n",
              "      <th></th>\n",
              "      <th>id</th>\n",
              "      <th>title</th>\n",
              "      <th>content</th>\n",
              "      <th>content_withouttags</th>\n",
              "    </tr>\n",
              "    <tr>\n",
              "      <th>tag1</th>\n",
              "      <th></th>\n",
              "      <th></th>\n",
              "      <th></th>\n",
              "      <th></th>\n",
              "    </tr>\n",
              "  </thead>\n",
              "  <tbody>\n",
              "    <tr>\n",
              "      <th>azure-active-directory</th>\n",
              "      <td>856</td>\n",
              "      <td>856</td>\n",
              "      <td>856</td>\n",
              "      <td>856</td>\n",
              "    </tr>\n",
              "    <tr>\n",
              "      <th>azure-data-factory</th>\n",
              "      <td>434</td>\n",
              "      <td>434</td>\n",
              "      <td>434</td>\n",
              "      <td>434</td>\n",
              "    </tr>\n",
              "    <tr>\n",
              "      <th>azure-webapps</th>\n",
              "      <td>641</td>\n",
              "      <td>641</td>\n",
              "      <td>641</td>\n",
              "      <td>641</td>\n",
              "    </tr>\n",
              "    <tr>\n",
              "      <th>uwp</th>\n",
              "      <td>656</td>\n",
              "      <td>656</td>\n",
              "      <td>656</td>\n",
              "      <td>656</td>\n",
              "    </tr>\n",
              "  </tbody>\n",
              "</table>\n",
              "</div>"
            ],
            "text/plain": [
              "                         id  title  content  content_withouttags\n",
              "tag1                                                            \n",
              "azure-active-directory  856    856      856                  856\n",
              "azure-data-factory      434    434      434                  434\n",
              "azure-webapps           641    641      641                  641\n",
              "uwp                     656    656      656                  656"
            ]
          },
          "metadata": {
            "tags": []
          },
          "execution_count": 6
        }
      ]
    },
    {
      "cell_type": "code",
      "metadata": {
        "id": "NEVB6MYOo3ff",
        "outputId": "97e61b81-f360-4e06-e4d2-5334037f3c45",
        "colab": {
          "base_uri": "https://localhost:8080/",
          "height": 402
        }
      },
      "source": [
        "#cleanedinputdf = inputdf[['RawDataDocumentId', 'title','Tag1','Tag2','Tag3','Tag4','Tag5','content_withouttags']]\n",
        "cleanedinputdf = inputdf[['id', 'title','tag1','content_withouttags']]\n",
        "cleanedinputdf"
      ],
      "execution_count": 8,
      "outputs": [
        {
          "output_type": "execute_result",
          "data": {
            "text/html": [
              "<div>\n",
              "<style scoped>\n",
              "    .dataframe tbody tr th:only-of-type {\n",
              "        vertical-align: middle;\n",
              "    }\n",
              "\n",
              "    .dataframe tbody tr th {\n",
              "        vertical-align: top;\n",
              "    }\n",
              "\n",
              "    .dataframe thead th {\n",
              "        text-align: right;\n",
              "    }\n",
              "</style>\n",
              "<table border=\"1\" class=\"dataframe\">\n",
              "  <thead>\n",
              "    <tr style=\"text-align: right;\">\n",
              "      <th></th>\n",
              "      <th>id</th>\n",
              "      <th>title</th>\n",
              "      <th>tag1</th>\n",
              "      <th>content_withouttags</th>\n",
              "    </tr>\n",
              "  </thead>\n",
              "  <tbody>\n",
              "    <tr>\n",
              "      <th>0</th>\n",
              "      <td>MicrosoftQnA_21855</td>\n",
              "      <td>S/Mime AzuerAD/ Office 365</td>\n",
              "      <td>azure-active-directory</td>\n",
              "      <td>hello, i would like to implement s/mime in a p...</td>\n",
              "    </tr>\n",
              "    <tr>\n",
              "      <th>1</th>\n",
              "      <td>MicrosoftQnA_21869</td>\n",
              "      <td>Azure AD SAML IDP provider with relay state</td>\n",
              "      <td>azure-active-directory</td>\n",
              "      <td>we can federate a domain on aad and configure ...</td>\n",
              "    </tr>\n",
              "    <tr>\n",
              "      <th>2</th>\n",
              "      <td>MicrosoftQnA_2189</td>\n",
              "      <td>Script is disabled. Click Submit to continue.</td>\n",
              "      <td>azure-active-directory</td>\n",
              "      <td>i am working with a webtest to mimic azure ad ...</td>\n",
              "    </tr>\n",
              "    <tr>\n",
              "      <th>3</th>\n",
              "      <td>MicrosoftQnA_2190</td>\n",
              "      <td>Azure B2C securing metadata endpoint.</td>\n",
              "      <td>azure-active-directory</td>\n",
              "      <td>does azure b2c support custom policy metadata ...</td>\n",
              "    </tr>\n",
              "    <tr>\n",
              "      <th>4</th>\n",
              "      <td>MicrosoftQnA_21936</td>\n",
              "      <td>AAD Users for Accounts that Have Pre-Existing ...</td>\n",
              "      <td>azure-active-directory</td>\n",
              "      <td>hello,  i have an interesting problem to share...</td>\n",
              "    </tr>\n",
              "    <tr>\n",
              "      <th>...</th>\n",
              "      <td>...</td>\n",
              "      <td>...</td>\n",
              "      <td>...</td>\n",
              "      <td>...</td>\n",
              "    </tr>\n",
              "    <tr>\n",
              "      <th>2582</th>\n",
              "      <td>MicrosoftQnA_9842</td>\n",
              "      <td>Question about UWP and broadFileSystemAccess</td>\n",
              "      <td>uwp</td>\n",
              "      <td>i have a uwp app that needs full access to the...</td>\n",
              "    </tr>\n",
              "    <tr>\n",
              "      <th>2583</th>\n",
              "      <td>MicrosoftQnA_9856</td>\n",
              "      <td>x:Uid cache</td>\n",
              "      <td>uwp</td>\n",
              "      <td>hi,  is there some way to disable or reliably ...</td>\n",
              "    </tr>\n",
              "    <tr>\n",
              "      <th>2584</th>\n",
              "      <td>MicrosoftQnA_9903</td>\n",
              "      <td>is there a way to force loading a StorageFile ...</td>\n",
              "      <td>uwp</td>\n",
              "      <td>i have a storagefile that i want to use as inp...</td>\n",
              "    </tr>\n",
              "    <tr>\n",
              "      <th>2585</th>\n",
              "      <td>MicrosoftQnA_9913</td>\n",
              "      <td>How to set background color on TextBlock</td>\n",
              "      <td>uwp</td>\n",
              "      <td>how can the background color on a textblock co...</td>\n",
              "    </tr>\n",
              "    <tr>\n",
              "      <th>2586</th>\n",
              "      <td>MicrosoftQnA_9933</td>\n",
              "      <td>Use external display in direct mode in UWP</td>\n",
              "      <td>uwp</td>\n",
              "      <td>hi, i am looking for a solution on how to dire...</td>\n",
              "    </tr>\n",
              "  </tbody>\n",
              "</table>\n",
              "<p>2587 rows × 4 columns</p>\n",
              "</div>"
            ],
            "text/plain": [
              "                      id  ...                                content_withouttags\n",
              "0     MicrosoftQnA_21855  ...  hello, i would like to implement s/mime in a p...\n",
              "1     MicrosoftQnA_21869  ...  we can federate a domain on aad and configure ...\n",
              "2      MicrosoftQnA_2189  ...  i am working with a webtest to mimic azure ad ...\n",
              "3      MicrosoftQnA_2190  ...  does azure b2c support custom policy metadata ...\n",
              "4     MicrosoftQnA_21936  ...  hello,  i have an interesting problem to share...\n",
              "...                  ...  ...                                                ...\n",
              "2582   MicrosoftQnA_9842  ...  i have a uwp app that needs full access to the...\n",
              "2583   MicrosoftQnA_9856  ...  hi,  is there some way to disable or reliably ...\n",
              "2584   MicrosoftQnA_9903  ...  i have a storagefile that i want to use as inp...\n",
              "2585   MicrosoftQnA_9913  ...  how can the background color on a textblock co...\n",
              "2586   MicrosoftQnA_9933  ...  hi, i am looking for a solution on how to dire...\n",
              "\n",
              "[2587 rows x 4 columns]"
            ]
          },
          "metadata": {
            "tags": []
          },
          "execution_count": 8
        }
      ]
    },
    {
      "cell_type": "code",
      "metadata": {
        "id": "5MRkHksjMQGI",
        "outputId": "127683cf-f65f-4c72-949f-fd8c00fd791f",
        "colab": {
          "base_uri": "https://localhost:8080/",
          "height": 101
        }
      },
      "source": [
        "#df_tags = cleanedinputdf.drop(['id', 'comment_text'], axis=1)\n",
        "cleanedinputdf.set_index('id')\n",
        "cleanedinputdf.dropna(inplace=True)\n",
        "Tags = list(cleanedinputdf.tag1.drop_duplicates().values)\n",
        "Tags\n",
        "Title = list(cleanedinputdf.title.drop_duplicates().values)"
      ],
      "execution_count": 9,
      "outputs": [
        {
          "output_type": "stream",
          "text": [
            "/usr/local/lib/python3.6/dist-packages/ipykernel_launcher.py:3: SettingWithCopyWarning: \n",
            "A value is trying to be set on a copy of a slice from a DataFrame\n",
            "\n",
            "See the caveats in the documentation: https://pandas.pydata.org/pandas-docs/stable/user_guide/indexing.html#returning-a-view-versus-a-copy\n",
            "  This is separate from the ipykernel package so we can avoid doing imports until\n"
          ],
          "name": "stderr"
        }
      ]
    },
    {
      "cell_type": "code",
      "metadata": {
        "id": "6QIZmJatT-ki",
        "outputId": "c01841b1-1686-4c54-e079-8ddfa1c72e89",
        "colab": {
          "base_uri": "https://localhost:8080/",
          "height": 195
        }
      },
      "source": [
        "cleanedinputdf['Tag1_ID'] = cleanedinputdf['tag1'].factorize()[0]\n",
        "Tag1_id_df = cleanedinputdf[['tag1', 'Tag1_ID']].drop_duplicates().sort_values('Tag1_ID')\n",
        "Tag1_ID = dict(Tag1_id_df.values)\n",
        "id_to_category = dict(Tag1_id_df[['Tag1_ID', 'tag1']].values)\n",
        "cleanedinputdf.head()"
      ],
      "execution_count": 10,
      "outputs": [
        {
          "output_type": "execute_result",
          "data": {
            "text/html": [
              "<div>\n",
              "<style scoped>\n",
              "    .dataframe tbody tr th:only-of-type {\n",
              "        vertical-align: middle;\n",
              "    }\n",
              "\n",
              "    .dataframe tbody tr th {\n",
              "        vertical-align: top;\n",
              "    }\n",
              "\n",
              "    .dataframe thead th {\n",
              "        text-align: right;\n",
              "    }\n",
              "</style>\n",
              "<table border=\"1\" class=\"dataframe\">\n",
              "  <thead>\n",
              "    <tr style=\"text-align: right;\">\n",
              "      <th></th>\n",
              "      <th>id</th>\n",
              "      <th>title</th>\n",
              "      <th>tag1</th>\n",
              "      <th>content_withouttags</th>\n",
              "      <th>Tag1_ID</th>\n",
              "    </tr>\n",
              "  </thead>\n",
              "  <tbody>\n",
              "    <tr>\n",
              "      <th>0</th>\n",
              "      <td>MicrosoftQnA_21855</td>\n",
              "      <td>S/Mime AzuerAD/ Office 365</td>\n",
              "      <td>azure-active-directory</td>\n",
              "      <td>hello, i would like to implement s/mime in a p...</td>\n",
              "      <td>0</td>\n",
              "    </tr>\n",
              "    <tr>\n",
              "      <th>1</th>\n",
              "      <td>MicrosoftQnA_21869</td>\n",
              "      <td>Azure AD SAML IDP provider with relay state</td>\n",
              "      <td>azure-active-directory</td>\n",
              "      <td>we can federate a domain on aad and configure ...</td>\n",
              "      <td>0</td>\n",
              "    </tr>\n",
              "    <tr>\n",
              "      <th>2</th>\n",
              "      <td>MicrosoftQnA_2189</td>\n",
              "      <td>Script is disabled. Click Submit to continue.</td>\n",
              "      <td>azure-active-directory</td>\n",
              "      <td>i am working with a webtest to mimic azure ad ...</td>\n",
              "      <td>0</td>\n",
              "    </tr>\n",
              "    <tr>\n",
              "      <th>3</th>\n",
              "      <td>MicrosoftQnA_2190</td>\n",
              "      <td>Azure B2C securing metadata endpoint.</td>\n",
              "      <td>azure-active-directory</td>\n",
              "      <td>does azure b2c support custom policy metadata ...</td>\n",
              "      <td>0</td>\n",
              "    </tr>\n",
              "    <tr>\n",
              "      <th>4</th>\n",
              "      <td>MicrosoftQnA_21936</td>\n",
              "      <td>AAD Users for Accounts that Have Pre-Existing ...</td>\n",
              "      <td>azure-active-directory</td>\n",
              "      <td>hello,  i have an interesting problem to share...</td>\n",
              "      <td>0</td>\n",
              "    </tr>\n",
              "  </tbody>\n",
              "</table>\n",
              "</div>"
            ],
            "text/plain": [
              "                   id  ... Tag1_ID\n",
              "0  MicrosoftQnA_21855  ...       0\n",
              "1  MicrosoftQnA_21869  ...       0\n",
              "2   MicrosoftQnA_2189  ...       0\n",
              "3   MicrosoftQnA_2190  ...       0\n",
              "4  MicrosoftQnA_21936  ...       0\n",
              "\n",
              "[5 rows x 5 columns]"
            ]
          },
          "metadata": {
            "tags": []
          },
          "execution_count": 10
        }
      ]
    },
    {
      "cell_type": "code",
      "metadata": {
        "id": "jaql20AyU43j",
        "outputId": "e2adae0f-4fdd-47f7-a9fa-8fcdedca03c5",
        "colab": {
          "base_uri": "https://localhost:8080/",
          "height": 488
        }
      },
      "source": [
        "import matplotlib.pyplot as plt\n",
        "fig = plt.figure(figsize=(8,6))\n",
        "cleanedinputdf.groupby('tag1').content_withouttags.count().plot.bar(ylim=0)\n",
        "plt.show()"
      ],
      "execution_count": 12,
      "outputs": [
        {
          "output_type": "display_data",
          "data": {
            "image/png": "[encoded data removed]",
            "text/plain": [
              "<Figure size 576x432 with 1 Axes>"
            ]
          },
          "metadata": {
            "tags": [],
            "needs_background": "light"
          }
        }
      ]
    },
    {
      "cell_type": "code",
      "metadata": {
        "id": "Jt1vgHtBXFEY",
        "outputId": "a68b4ae7-e117-4e2c-c621-ec89476247a5",
        "colab": {
          "base_uri": "https://localhost:8080/",
          "height": 34
        }
      },
      "source": [
        "from sklearn.model_selection import train_test_split\n",
        "from sklearn.feature_extraction.text import CountVectorizer\n",
        "from sklearn.feature_extraction.text import TfidfTransformer\n",
        "from sklearn.naive_bayes import MultinomialNB\n",
        "from sklearn.metrics import accuracy_score\n",
        "X_train, X_test, y_train, y_test = train_test_split(cleanedinputdf['title'], cleanedinputdf['tag1'], random_state = 0)\n",
        "count_vect = CountVectorizer()\n",
        "X_train_counts = count_vect.fit_transform(X_train)\n",
        "tfidf_transformer = TfidfTransformer()\n",
        "X_train_tfidf = tfidf_transformer.fit_transform(X_train_counts)\n",
        "X_train_tfidf\n",
        "clf = MultinomialNB().fit(X_train_tfidf, y_train)\n",
        "X_test_counts = count_vect.transform(X_test)\n",
        "y_pred=clf.predict(X_test_counts)\n",
        "accuracy_score(y_test, y_pred)\n",
        "#from sklearn import metrics\n",
        "#print(metrics.classification_report(y_test, y_pred, target_names=cleanedinputdf['tag1'].unique()))\n"
      ],
      "execution_count": 13,
      "outputs": [
        {
          "output_type": "execute_result",
          "data": {
            "text/plain": [
              "0.8531684698608965"
            ]
          },
          "metadata": {
            "tags": []
          },
          "execution_count": 13
        }
      ]
    },
    {
      "cell_type": "code",
      "metadata": {
        "id": "vwh9M0gMXVnE",
        "outputId": "82c478d7-fc33-4e54-e8db-f108fbb4b05c",
        "colab": {
          "base_uri": "https://localhost:8080/",
          "height": 34
        }
      },
      "source": [
        "print(clf.predict(count_vect.transform([\"What happens if copy activity bind to the same storage queue for input \"])))"
      ],
      "execution_count": 14,
      "outputs": [
        {
          "output_type": "stream",
          "text": [
            "['azure-data-factory']\n"
          ],
          "name": "stdout"
        }
      ]
    },
    {
      "cell_type": "code",
      "metadata": {
        "id": "e2ZqL7ytX0Wq",
        "outputId": "7a3fdf0c-9cfa-470d-bc5f-66359e904f84",
        "colab": {
          "base_uri": "https://localhost:8080/",
          "height": 229
        }
      },
      "source": [
        "from sklearn.linear_model import LogisticRegression\n",
        "from sklearn.ensemble import RandomForestClassifier\n",
        "from sklearn.svm import LinearSVC\n",
        "from sklearn.model_selection import cross_val_score\n",
        "models = [\n",
        "    RandomForestClassifier(n_estimators=200, max_depth=3, random_state=0),\n",
        "    LinearSVC(),\n",
        "    MultinomialNB(),\n",
        "    LogisticRegression(random_state=0),\n",
        "]\n",
        "CV = 5\n",
        "cv_df = pd.DataFrame(index=range(CV * len(models)))\n",
        "entries = []\n",
        "for model in models:\n",
        "  model_name = model.__class__.__name__\n",
        "  accuracies = cross_val_score(model, features, labels, scoring='accuracy', cv=CV)\n",
        "  for fold_idx, accuracy in enumerate(accuracies):\n",
        "    entries.append((model_name, fold_idx, accuracy))\n",
        "cv_df = pd.DataFrame(entries, columns=['model_name', 'fold_idx', 'accuracy'])\n",
        "import seaborn as sns\n",
        "sns.boxplot(x='model_name', y='accuracy', data=cv_df)\n",
        "sns.stripplot(x='model_name', y='accuracy', data=cv_df, \n",
        "              size=8, jitter=True, edgecolor=\"gray\", linewidth=2)\n",
        "plt.show()"
      ],
      "execution_count": null,
      "outputs": [
        {
          "output_type": "error",
          "ename": "NameError",
          "evalue": "ignored",
          "traceback": [
            "\u001b[0;31m---------------------------------------------------------------------------\u001b[0m",
            "\u001b[0;31mNameError\u001b[0m                                 Traceback (most recent call last)",
            "\u001b[0;32m<ipython-input-13-3e79e32386cb>\u001b[0m in \u001b[0;36m<module>\u001b[0;34m()\u001b[0m\n\u001b[1;32m     14\u001b[0m \u001b[0;32mfor\u001b[0m \u001b[0mmodel\u001b[0m \u001b[0;32min\u001b[0m \u001b[0mmodels\u001b[0m\u001b[0;34m:\u001b[0m\u001b[0;34m\u001b[0m\u001b[0;34m\u001b[0m\u001b[0m\n\u001b[1;32m     15\u001b[0m   \u001b[0mmodel_name\u001b[0m \u001b[0;34m=\u001b[0m \u001b[0mmodel\u001b[0m\u001b[0;34m.\u001b[0m\u001b[0m__class__\u001b[0m\u001b[0;34m.\u001b[0m\u001b[0m__name__\u001b[0m\u001b[0;34m\u001b[0m\u001b[0;34m\u001b[0m\u001b[0m\n\u001b[0;32m---> 16\u001b[0;31m   \u001b[0maccuracies\u001b[0m \u001b[0;34m=\u001b[0m \u001b[0mcross_val_score\u001b[0m\u001b[0;34m(\u001b[0m\u001b[0mmodel\u001b[0m\u001b[0;34m,\u001b[0m \u001b[0mfeatures\u001b[0m\u001b[0;34m,\u001b[0m \u001b[0mlabels\u001b[0m\u001b[0;34m,\u001b[0m \u001b[0mscoring\u001b[0m\u001b[0;34m=\u001b[0m\u001b[0;34m'accuracy'\u001b[0m\u001b[0;34m,\u001b[0m \u001b[0mcv\u001b[0m\u001b[0;34m=\u001b[0m\u001b[0mCV\u001b[0m\u001b[0;34m)\u001b[0m\u001b[0;34m\u001b[0m\u001b[0;34m\u001b[0m\u001b[0m\n\u001b[0m\u001b[1;32m     17\u001b[0m   \u001b[0;32mfor\u001b[0m \u001b[0mfold_idx\u001b[0m\u001b[0;34m,\u001b[0m \u001b[0maccuracy\u001b[0m \u001b[0;32min\u001b[0m \u001b[0menumerate\u001b[0m\u001b[0;34m(\u001b[0m\u001b[0maccuracies\u001b[0m\u001b[0;34m)\u001b[0m\u001b[0;34m:\u001b[0m\u001b[0;34m\u001b[0m\u001b[0;34m\u001b[0m\u001b[0m\n\u001b[1;32m     18\u001b[0m     \u001b[0mentries\u001b[0m\u001b[0;34m.\u001b[0m\u001b[0mappend\u001b[0m\u001b[0;34m(\u001b[0m\u001b[0;34m(\u001b[0m\u001b[0mmodel_name\u001b[0m\u001b[0;34m,\u001b[0m \u001b[0mfold_idx\u001b[0m\u001b[0;34m,\u001b[0m \u001b[0maccuracy\u001b[0m\u001b[0;34m)\u001b[0m\u001b[0;34m)\u001b[0m\u001b[0;34m\u001b[0m\u001b[0;34m\u001b[0m\u001b[0m\n",
            "\u001b[0;31mNameError\u001b[0m: name 'features' is not defined"
          ]
        }
      ]
    },
    {
      "cell_type": "code",
      "metadata": {
        "id": "D6156-yDYJJ7",
        "outputId": "981c733f-2e9f-43a1-a438-a9800fdcdbad",
        "colab": {
          "base_uri": "https://localhost:8080/",
          "height": 162
        }
      },
      "source": [
        "cv_df.groupby('model_name').accuracy.mean()"
      ],
      "execution_count": 15,
      "outputs": [
        {
          "output_type": "error",
          "ename": "NameError",
          "evalue": "ignored",
          "traceback": [
            "\u001b[0;31m---------------------------------------------------------------------------\u001b[0m",
            "\u001b[0;31mNameError\u001b[0m                                 Traceback (most recent call last)",
            "\u001b[0;32m<ipython-input-15-a403454a8a85>\u001b[0m in \u001b[0;36m<module>\u001b[0;34m()\u001b[0m\n\u001b[0;32m----> 1\u001b[0;31m \u001b[0mcv_df\u001b[0m\u001b[0;34m.\u001b[0m\u001b[0mgroupby\u001b[0m\u001b[0;34m(\u001b[0m\u001b[0;34m'model_name'\u001b[0m\u001b[0;34m)\u001b[0m\u001b[0;34m.\u001b[0m\u001b[0maccuracy\u001b[0m\u001b[0;34m.\u001b[0m\u001b[0mmean\u001b[0m\u001b[0;34m(\u001b[0m\u001b[0;34m)\u001b[0m\u001b[0;34m\u001b[0m\u001b[0;34m\u001b[0m\u001b[0m\n\u001b[0m",
            "\u001b[0;31mNameError\u001b[0m: name 'cv_df' is not defined"
          ]
        }
      ]
    },
    {
      "cell_type": "code",
      "metadata": {
        "id": "iqdi99wgErIo",
        "outputId": "59c4d322-23d4-47af-cfcc-e275b74e960d",
        "colab": {
          "base_uri": "https://localhost:8080/",
          "height": 252
        }
      },
      "source": [
        "pip install --upgrade requests"
      ],
      "execution_count": 16,
      "outputs": [
        {
          "output_type": "stream",
          "text": [
            "Collecting requests\n",
            "\u001b[?25l  Downloading https://files.pythonhosted.org/packages/45/1e/0c169c6a5381e241ba7404532c16a21d86ab872c9bed8bdcd4c423954103/requests-2.24.0-py2.py3-none-any.whl (61kB)\n",
            "\r\u001b[K     |█████▎                          | 10kB 19.0MB/s eta 0:00:01\r\u001b[K     |██████████▋                     | 20kB 1.6MB/s eta 0:00:01\r\u001b[K     |████████████████                | 30kB 1.8MB/s eta 0:00:01\r\u001b[K     |█████████████████████▏          | 40kB 2.1MB/s eta 0:00:01\r\u001b[K     |██████████████████████████▌     | 51kB 2.0MB/s eta 0:00:01\r\u001b[K     |███████████████████████████████▉| 61kB 2.2MB/s eta 0:00:01\r\u001b[K     |████████████████████████████████| 71kB 2.0MB/s \n",
            "\u001b[?25hRequirement already satisfied, skipping upgrade: urllib3!=1.25.0,!=1.25.1,<1.26,>=1.21.1 in /usr/local/lib/python3.6/dist-packages (from requests) (1.24.3)\n",
            "Requirement already satisfied, skipping upgrade: idna<3,>=2.5 in /usr/local/lib/python3.6/dist-packages (from requests) (2.10)\n",
            "Requirement already satisfied, skipping upgrade: chardet<4,>=3.0.2 in /usr/local/lib/python3.6/dist-packages (from requests) (3.0.4)\n",
            "Requirement already satisfied, skipping upgrade: certifi>=2017.4.17 in /usr/local/lib/python3.6/dist-packages (from requests) (2020.6.20)\n",
            "\u001b[31mERROR: google-colab 1.0.0 has requirement requests~=2.23.0, but you'll have requests 2.24.0 which is incompatible.\u001b[0m\n",
            "\u001b[31mERROR: datascience 0.10.6 has requirement folium==0.2.1, but you'll have folium 0.8.3 which is incompatible.\u001b[0m\n",
            "Installing collected packages: requests\n",
            "  Found existing installation: requests 2.23.0\n",
            "    Uninstalling requests-2.23.0:\n",
            "      Successfully uninstalled requests-2.23.0\n",
            "Successfully installed requests-2.24.0\n"
          ],
          "name": "stdout"
        }
      ]
    },
    {
      "cell_type": "code",
      "metadata": {
        "id": "LUeslEcyFOOe"
      },
      "source": [
        "import requests\n",
        "# pprint is used to format the JSON response\n",
        "from pprint import pprint"
      ],
      "execution_count": 17,
      "outputs": []
    },
    {
      "cell_type": "code",
      "metadata": {
        "id": "GNV0_vFzFYXB"
      },
      "source": [
        "import os\n",
        "\n",
        "subscription_key = \"9a24a33157484fcda8f493587c187c55\"\n",
        "endpoint = \"https://harithatextanalyticsapi.cognitiveservices.azure.com/\""
      ],
      "execution_count": 18,
      "outputs": []
    },
    {
      "cell_type": "code",
      "metadata": {
        "id": "BVbqFO0DFi6x"
      },
      "source": [
        "sentiment_url = endpoint + \"/text/analytics/v3.0/sentiment\""
      ],
      "execution_count": 20,
      "outputs": []
    },
    {
      "cell_type": "code",
      "metadata": {
        "id": "75l4HIICYaaU",
        "outputId": "24fa26e3-17f5-4ecd-d055-1204014ad97c",
        "colab": {
          "base_uri": "https://localhost:8080/",
          "height": 521
        }
      },
      "source": [
        "subdata = cleanedinputdf.loc[:, ['id', 'title']].rename(columns={'id': 'id', 'title': 'text'})\n",
        "subdata.insert(1, 'language', 'en')\n",
        "subdata = subdata.loc[:9, :]\n",
        "subdata = subdata.to_dict('records')\n",
        "documents = { 'documents': subdata }\n",
        "documents"
      ],
      "execution_count": 57,
      "outputs": [
        {
          "output_type": "execute_result",
          "data": {
            "text/plain": [
              "{'documents': [{'id': 'MicrosoftQnA_21855',\n",
              "   'language': 'en',\n",
              "   'text': 'S/Mime AzuerAD/ Office 365'},\n",
              "  {'id': 'MicrosoftQnA_21869',\n",
              "   'language': 'en',\n",
              "   'text': 'Azure AD SAML IDP provider with relay state'},\n",
              "  {'id': 'MicrosoftQnA_2189',\n",
              "   'language': 'en',\n",
              "   'text': 'Script is disabled. Click Submit to continue.'},\n",
              "  {'id': 'MicrosoftQnA_2190',\n",
              "   'language': 'en',\n",
              "   'text': 'Azure B2C securing metadata endpoint.'},\n",
              "  {'id': 'MicrosoftQnA_21936',\n",
              "   'language': 'en',\n",
              "   'text': 'AAD Users for Accounts that Have Pre-Existing Microsoft Accounts'},\n",
              "  {'id': 'MicrosoftQnA_21945',\n",
              "   'language': 'en',\n",
              "   'text': 'Office 365 Guest Users to normal users'},\n",
              "  {'id': 'MicrosoftQnA_21989',\n",
              "   'language': 'en',\n",
              "   'text': 'Get-AzureADPolicy is not working'},\n",
              "  {'id': 'MicrosoftQnA_21994',\n",
              "   'language': 'en',\n",
              "   'text': 'Skype for business online sdk login problem (401 - unauthorized)'},\n",
              "  {'id': 'MicrosoftQnA_22027',\n",
              "   'language': 'en',\n",
              "   'text': 'Getting error while creating new AzureADPolicy'},\n",
              "  {'id': 'MicrosoftQnA_22054',\n",
              "   'language': 'en',\n",
              "   'text': 'Authentication Issue using Graph APIs and read only scopes'}]}"
            ]
          },
          "metadata": {
            "tags": []
          },
          "execution_count": 57
        }
      ]
    },
    {
      "cell_type": "code",
      "metadata": {
        "id": "Cadm7b5JFn_O",
        "outputId": "c2e88c98-0011-4521-e074-775c3a355d44",
        "colab": {
          "base_uri": "https://localhost:8080/",
          "height": 35
        }
      },
      "source": [
        "import json\n",
        "headers = {\"Ocp-Apim-Subscription-Key\": subscription_key}\n",
        "response = requests.post(sentiment_url, headers=headers, json=documents)\n",
        "sentiments = response.json()\n",
        "#pprint(sentiments)\n",
        "#sentiments[\"sentiment\"]\n",
        "#sentiment=json.loads(sentiments)\n",
        "#sentiments[\"documents\"][0][\"sentiment\"]\n",
        "sentiments[\"documents\"][1][\"sentences\"][0][\"text\"]\n"
      ],
      "execution_count": 56,
      "outputs": [
        {
          "output_type": "execute_result",
          "data": {
            "application/vnd.google.colaboratory.intrinsic+json": {
              "type": "string"
            },
            "text/plain": [
              "'Azure AD SAML IDP provider with relay state'"
            ]
          },
          "metadata": {
            "tags": []
          },
          "execution_count": 56
        }
      ]
    },
    {
      "cell_type": "code",
      "metadata": {
        "id": "9HG2GDh4F3hI"
      },
      "source": [
        "entities_url = endpoint + \"/text/analytics/v3.0/entities/recognition/general\""
      ],
      "execution_count": null,
      "outputs": []
    },
    {
      "cell_type": "code",
      "metadata": {
        "id": "_WI9a2cUF5zq",
        "outputId": "01da50c9-655a-4c6a-e43c-f538416d9189",
        "colab": {
          "base_uri": "https://localhost:8080/",
          "height": 790
        }
      },
      "source": [
        "headers = {\"Ocp-Apim-Subscription-Key\": subscription_key}\n",
        "response = requests.post(entities_url, headers=headers, json=documents,opinionMining=true)\n",
        "entities = response.json()\n",
        "pprint(entities)"
      ],
      "execution_count": null,
      "outputs": [
        {
          "output_type": "stream",
          "text": [
            "{'documents': [{'entities': [{'category': 'Quantity',\n",
            "                              'confidenceScore': 0.8,\n",
            "                              'length': 3,\n",
            "                              'offset': 28,\n",
            "                              'subcategory': 'Number',\n",
            "                              'text': 'One'},\n",
            "                             {'category': 'Quantity',\n",
            "                              'confidenceScore': 0.8,\n",
            "                              'length': 2,\n",
            "                              'offset': 63,\n",
            "                              'subcategory': 'Number',\n",
            "                              'text': '4K'},\n",
            "                             {'category': 'Skill',\n",
            "                              'confidenceScore': 0.8,\n",
            "                              'length': 2,\n",
            "                              'offset': 63,\n",
            "                              'text': '4K'}],\n",
            "                'id': '1',\n",
            "                'warnings': []},\n",
            "               {'entities': [{'category': 'DateTime',\n",
            "                              'confidenceScore': 0.8,\n",
            "                              'length': 6,\n",
            "                              'offset': 13,\n",
            "                              'subcategory': 'Duration',\n",
            "                              'text': 'un dia'},\n",
            "                             {'category': 'DateTime',\n",
            "                              'confidenceScore': 0.8,\n",
            "                              'length': 5,\n",
            "                              'offset': 37,\n",
            "                              'subcategory': 'TimeRange',\n",
            "                              'text': 'tarde'},\n",
            "                             {'category': 'Quantity',\n",
            "                              'confidenceScore': 0.8,\n",
            "                              'length': 2,\n",
            "                              'offset': 63,\n",
            "                              'subcategory': 'Number',\n",
            "                              'text': 'un'},\n",
            "                             {'category': 'Event',\n",
            "                              'confidenceScore': 0.64,\n",
            "                              'length': 25,\n",
            "                              'offset': 66,\n",
            "                              'text': 'accidente automobilistico'}],\n",
            "                'id': '2',\n",
            "                'warnings': []}],\n",
            " 'errors': [],\n",
            " 'modelVersion': '2020-04-01'}\n"
          ],
          "name": "stdout"
        }
      ]
    },
    {
      "cell_type": "code",
      "metadata": {
        "id": "tIFLCxYYGVam",
        "outputId": "12bf3d7e-8beb-41d3-9bff-2eb3a5f1f2bb",
        "colab": {
          "base_uri": "https://localhost:8080/",
          "height": 302
        }
      },
      "source": [
        "from collections import defaultdict\n",
        "subdata=cleanedinputdf[['id','title']]\n",
        "subdata['document']=\"documents\"\n",
        "subdata['language']=\"en\"\n",
        "#records=subdata.to_records(index='False')\n",
        "#result = list(records)\n",
        "#result\n",
        "#data=defaultdict(result)\n",
        "data=subdata.set_index('document').T.to_dict('dict')\n",
        "#data=flatten_dict(data)\n",
        "data\n",
        "#subdata\n"
      ],
      "execution_count": null,
      "outputs": [
        {
          "output_type": "stream",
          "text": [
            "/usr/local/lib/python3.6/dist-packages/ipykernel_launcher.py:3: SettingWithCopyWarning: \n",
            "A value is trying to be set on a copy of a slice from a DataFrame.\n",
            "Try using .loc[row_indexer,col_indexer] = value instead\n",
            "\n",
            "See the caveats in the documentation: https://pandas.pydata.org/pandas-docs/stable/user_guide/indexing.html#returning-a-view-versus-a-copy\n",
            "  This is separate from the ipykernel package so we can avoid doing imports until\n",
            "/usr/local/lib/python3.6/dist-packages/ipykernel_launcher.py:4: SettingWithCopyWarning: \n",
            "A value is trying to be set on a copy of a slice from a DataFrame.\n",
            "Try using .loc[row_indexer,col_indexer] = value instead\n",
            "\n",
            "See the caveats in the documentation: https://pandas.pydata.org/pandas-docs/stable/user_guide/indexing.html#returning-a-view-versus-a-copy\n",
            "  after removing the cwd from sys.path.\n",
            "/usr/local/lib/python3.6/dist-packages/ipykernel_launcher.py:9: UserWarning: DataFrame columns are not unique, some columns will be omitted.\n",
            "  if __name__ == '__main__':\n"
          ],
          "name": "stderr"
        },
        {
          "output_type": "execute_result",
          "data": {
            "text/plain": [
              "{'documents': {'id': 'MicrosoftQnA_9933',\n",
              "  'language': 'en',\n",
              "  'title': 'Use external display in direct mode in UWP'}}"
            ]
          },
          "metadata": {
            "tags": []
          },
          "execution_count": 27
        }
      ]
    },
    {
      "cell_type": "code",
      "metadata": {
        "id": "dJFUnu27RlRc",
        "outputId": "706f2d27-4d98-4332-ea5a-6847054427f1",
        "colab": {
          "base_uri": "https://localhost:8080/",
          "height": 402
        }
      },
      "source": [
        "cleanedinputdf"
      ],
      "execution_count": 17,
      "outputs": [
        {
          "output_type": "execute_result",
          "data": {
            "text/html": [
              "<div>\n",
              "<style scoped>\n",
              "    .dataframe tbody tr th:only-of-type {\n",
              "        vertical-align: middle;\n",
              "    }\n",
              "\n",
              "    .dataframe tbody tr th {\n",
              "        vertical-align: top;\n",
              "    }\n",
              "\n",
              "    .dataframe thead th {\n",
              "        text-align: right;\n",
              "    }\n",
              "</style>\n",
              "<table border=\"1\" class=\"dataframe\">\n",
              "  <thead>\n",
              "    <tr style=\"text-align: right;\">\n",
              "      <th></th>\n",
              "      <th>id</th>\n",
              "      <th>title</th>\n",
              "      <th>tag1</th>\n",
              "      <th>content_withouttags</th>\n",
              "      <th>Tag1_ID</th>\n",
              "    </tr>\n",
              "  </thead>\n",
              "  <tbody>\n",
              "    <tr>\n",
              "      <th>0</th>\n",
              "      <td>MicrosoftQnA_21855</td>\n",
              "      <td>S/Mime AzuerAD/ Office 365</td>\n",
              "      <td>azure-active-directory</td>\n",
              "      <td>hello, i would like to implement s/mime in a p...</td>\n",
              "      <td>0</td>\n",
              "    </tr>\n",
              "    <tr>\n",
              "      <th>1</th>\n",
              "      <td>MicrosoftQnA_21869</td>\n",
              "      <td>Azure AD SAML IDP provider with relay state</td>\n",
              "      <td>azure-active-directory</td>\n",
              "      <td>we can federate a domain on aad and configure ...</td>\n",
              "      <td>0</td>\n",
              "    </tr>\n",
              "    <tr>\n",
              "      <th>2</th>\n",
              "      <td>MicrosoftQnA_2189</td>\n",
              "      <td>Script is disabled. Click Submit to continue.</td>\n",
              "      <td>azure-active-directory</td>\n",
              "      <td>i am working with a webtest to mimic azure ad ...</td>\n",
              "      <td>0</td>\n",
              "    </tr>\n",
              "    <tr>\n",
              "      <th>3</th>\n",
              "      <td>MicrosoftQnA_2190</td>\n",
              "      <td>Azure B2C securing metadata endpoint.</td>\n",
              "      <td>azure-active-directory</td>\n",
              "      <td>does azure b2c support custom policy metadata ...</td>\n",
              "      <td>0</td>\n",
              "    </tr>\n",
              "    <tr>\n",
              "      <th>4</th>\n",
              "      <td>MicrosoftQnA_21936</td>\n",
              "      <td>AAD Users for Accounts that Have Pre-Existing ...</td>\n",
              "      <td>azure-active-directory</td>\n",
              "      <td>hello,  i have an interesting problem to share...</td>\n",
              "      <td>0</td>\n",
              "    </tr>\n",
              "    <tr>\n",
              "      <th>...</th>\n",
              "      <td>...</td>\n",
              "      <td>...</td>\n",
              "      <td>...</td>\n",
              "      <td>...</td>\n",
              "      <td>...</td>\n",
              "    </tr>\n",
              "    <tr>\n",
              "      <th>2582</th>\n",
              "      <td>MicrosoftQnA_9842</td>\n",
              "      <td>Question about UWP and broadFileSystemAccess</td>\n",
              "      <td>uwp</td>\n",
              "      <td>i have a uwp app that needs full access to the...</td>\n",
              "      <td>3</td>\n",
              "    </tr>\n",
              "    <tr>\n",
              "      <th>2583</th>\n",
              "      <td>MicrosoftQnA_9856</td>\n",
              "      <td>x:Uid cache</td>\n",
              "      <td>uwp</td>\n",
              "      <td>hi,  is there some way to disable or reliably ...</td>\n",
              "      <td>3</td>\n",
              "    </tr>\n",
              "    <tr>\n",
              "      <th>2584</th>\n",
              "      <td>MicrosoftQnA_9903</td>\n",
              "      <td>is there a way to force loading a StorageFile ...</td>\n",
              "      <td>uwp</td>\n",
              "      <td>i have a storagefile that i want to use as inp...</td>\n",
              "      <td>3</td>\n",
              "    </tr>\n",
              "    <tr>\n",
              "      <th>2585</th>\n",
              "      <td>MicrosoftQnA_9913</td>\n",
              "      <td>How to set background color on TextBlock</td>\n",
              "      <td>uwp</td>\n",
              "      <td>how can the background color on a textblock co...</td>\n",
              "      <td>3</td>\n",
              "    </tr>\n",
              "    <tr>\n",
              "      <th>2586</th>\n",
              "      <td>MicrosoftQnA_9933</td>\n",
              "      <td>Use external display in direct mode in UWP</td>\n",
              "      <td>uwp</td>\n",
              "      <td>hi, i am looking for a solution on how to dire...</td>\n",
              "      <td>3</td>\n",
              "    </tr>\n",
              "  </tbody>\n",
              "</table>\n",
              "<p>2587 rows × 5 columns</p>\n",
              "</div>"
            ],
            "text/plain": [
              "                      id  ... Tag1_ID\n",
              "0     MicrosoftQnA_21855  ...       0\n",
              "1     MicrosoftQnA_21869  ...       0\n",
              "2      MicrosoftQnA_2189  ...       0\n",
              "3      MicrosoftQnA_2190  ...       0\n",
              "4     MicrosoftQnA_21936  ...       0\n",
              "...                  ...  ...     ...\n",
              "2582   MicrosoftQnA_9842  ...       3\n",
              "2583   MicrosoftQnA_9856  ...       3\n",
              "2584   MicrosoftQnA_9903  ...       3\n",
              "2585   MicrosoftQnA_9913  ...       3\n",
              "2586   MicrosoftQnA_9933  ...       3\n",
              "\n",
              "[2587 rows x 5 columns]"
            ]
          },
          "metadata": {
            "tags": []
          },
          "execution_count": 17
        }
      ]
    },
    {
      "cell_type": "code",
      "metadata": {
        "id": "T9X0FGS3GqEj",
        "outputId": "9d7fe96f-7dc0-43fc-d62c-c4945252914a",
        "colab": {
          "base_uri": "https://localhost:8080/",
          "height": 84
        }
      },
      "source": [
        "headers = {\"Ocp-Apim-Subscription-Key\": subscription_key}\n",
        "response = requests.post(sentiment_url, headers=headers, json=data)\n",
        "pprint(sentiments)"
      ],
      "execution_count": null,
      "outputs": [
        {
          "output_type": "stream",
          "text": [
            "{'error': {'code': 'InvalidRequest',\n",
            "           'innererror': {'code': 'MissingInputRecords',\n",
            "                          'message': 'Missing input records.'},\n",
            "           'message': 'Invalid Request.'}}\n"
          ],
          "name": "stdout"
        }
      ]
    },
    {
      "cell_type": "code",
      "metadata": {
        "id": "FIX5sKExwz3w"
      },
      "source": [
        "# Stack Overflow code for Questions tagging \n",
        "import pandas as pd\n",
        "import numpy as np\n",
        "from sklearn.cluster import MiniBatchKMeans\n",
        "from sklearn.feature_extraction.text import TfidfVectorizer\n",
        "from sklearn.decomposition import PCA\n",
        "import matplotlib.pyplot as plt\n",
        "from matplotlib.ticker import StrMethodFormatter"
      ],
      "execution_count": 4,
      "outputs": []
    },
    {
      "cell_type": "code",
      "metadata": {
        "id": "0iJvM_FgxFdX"
      },
      "source": [
        "from sklearn.utils import shuffle\n",
        "cleanedinputdf = shuffle(cleanedinputdf)"
      ],
      "execution_count": 20,
      "outputs": []
    },
    {
      "cell_type": "code",
      "metadata": {
        "id": "2_ZeKveayU8M"
      },
      "source": [
        "# split data into train, test, and valid sets\n",
        "msk = np.random.rand(len(cleanedinputdf)) < 0.7\n",
        "train = cleanedinputdf[msk]\n",
        "temp = cleanedinputdf[~msk]\n",
        "msk = np.random.rand(len(temp)) < 0.66\n",
        "valid = temp[msk]\n",
        "test = temp[~msk]"
      ],
      "execution_count": 21,
      "outputs": []
    },
    {
      "cell_type": "code",
      "metadata": {
        "id": "s85FAYOqzBLx",
        "outputId": "e61e5b0b-f2bb-489c-9c4f-3fb4f4336fbd",
        "colab": {
          "base_uri": "https://localhost:8080/",
          "height": 343
        }
      },
      "source": [
        "train.head(10)"
      ],
      "execution_count": 22,
      "outputs": [
        {
          "output_type": "execute_result",
          "data": {
            "text/html": [
              "<div>\n",
              "<style scoped>\n",
              "    .dataframe tbody tr th:only-of-type {\n",
              "        vertical-align: middle;\n",
              "    }\n",
              "\n",
              "    .dataframe tbody tr th {\n",
              "        vertical-align: top;\n",
              "    }\n",
              "\n",
              "    .dataframe thead th {\n",
              "        text-align: right;\n",
              "    }\n",
              "</style>\n",
              "<table border=\"1\" class=\"dataframe\">\n",
              "  <thead>\n",
              "    <tr style=\"text-align: right;\">\n",
              "      <th></th>\n",
              "      <th>id</th>\n",
              "      <th>title</th>\n",
              "      <th>tag1</th>\n",
              "      <th>content_withouttags</th>\n",
              "      <th>Tag1_ID</th>\n",
              "    </tr>\n",
              "  </thead>\n",
              "  <tbody>\n",
              "    <tr>\n",
              "      <th>2490</th>\n",
              "      <td>MicrosoftQnA_4547</td>\n",
              "      <td>Debug a live UWP app</td>\n",
              "      <td>uwp</td>\n",
              "      <td>hi, when the users install our windows 10 uwp ...</td>\n",
              "      <td>3</td>\n",
              "    </tr>\n",
              "    <tr>\n",
              "      <th>1749</th>\n",
              "      <td>MicrosoftQnA_57123</td>\n",
              "      <td>Azure free trial subscription not found in VS ...</td>\n",
              "      <td>azure-webapps</td>\n",
              "      <td>when trying to deploy a bootleg web app in vs ...</td>\n",
              "      <td>2</td>\n",
              "    </tr>\n",
              "    <tr>\n",
              "      <th>1726</th>\n",
              "      <td>MicrosoftQnA_51864</td>\n",
              "      <td>Azure custom domain transfer : private registr...</td>\n",
              "      <td>azure-webapps</td>\n",
              "      <td>hi, i want to transfer a custom domain i curre...</td>\n",
              "      <td>2</td>\n",
              "    </tr>\n",
              "    <tr>\n",
              "      <th>1691</th>\n",
              "      <td>MicrosoftQnA_4366</td>\n",
              "      <td>Azure App Service Node.js deployment with Kudu...</td>\n",
              "      <td>azure-webapps</td>\n",
              "      <td>i just used azure app service with ci/cd to de...</td>\n",
              "      <td>2</td>\n",
              "    </tr>\n",
              "    <tr>\n",
              "      <th>167</th>\n",
              "      <td>MicrosoftQnA_25751</td>\n",
              "      <td>Lab Sandbox Not Allowing Access to Azure AD</td>\n",
              "      <td>azure-active-directory</td>\n",
              "      <td>i&amp;amp;#39;ve been working in the learn sandbox...</td>\n",
              "      <td>0</td>\n",
              "    </tr>\n",
              "    <tr>\n",
              "      <th>1829</th>\n",
              "      <td>MicrosoftQnA_74124</td>\n",
              "      <td>Linux App Service stops responding</td>\n",
              "      <td>azure-webapps</td>\n",
              "      <td>i&amp;#39;ve been working on a flask app (python 3...</td>\n",
              "      <td>2</td>\n",
              "    </tr>\n",
              "    <tr>\n",
              "      <th>441</th>\n",
              "      <td>MicrosoftQnA_3732</td>\n",
              "      <td>AAD Login uses logged in user by default</td>\n",
              "      <td>azure-active-directory</td>\n",
              "      <td>hi,   i have a few applications that use aad f...</td>\n",
              "      <td>0</td>\n",
              "    </tr>\n",
              "    <tr>\n",
              "      <th>1708</th>\n",
              "      <td>MicrosoftQnA_46900</td>\n",
              "      <td>Azure App service not able to find root folder...</td>\n",
              "      <td>azure-webapps</td>\n",
              "      <td>hi,  i am facing one weird issue.i have create...</td>\n",
              "      <td>2</td>\n",
              "    </tr>\n",
              "    <tr>\n",
              "      <th>1265</th>\n",
              "      <td>MicrosoftQnA_94193</td>\n",
              "      <td>Copying Data From Azure Data Factory</td>\n",
              "      <td>azure-data-factory</td>\n",
              "      <td>hi team, i am copying data between 2 storage a...</td>\n",
              "      <td>1</td>\n",
              "    </tr>\n",
              "    <tr>\n",
              "      <th>941</th>\n",
              "      <td>MicrosoftQnA_34943</td>\n",
              "      <td>Why we delete deployment in continuous integra...</td>\n",
              "      <td>azure-data-factory</td>\n",
              "      <td>while deploying in other environment like stag...</td>\n",
              "      <td>1</td>\n",
              "    </tr>\n",
              "  </tbody>\n",
              "</table>\n",
              "</div>"
            ],
            "text/plain": [
              "                      id  ... Tag1_ID\n",
              "2490   MicrosoftQnA_4547  ...       3\n",
              "1749  MicrosoftQnA_57123  ...       2\n",
              "1726  MicrosoftQnA_51864  ...       2\n",
              "1691   MicrosoftQnA_4366  ...       2\n",
              "167   MicrosoftQnA_25751  ...       0\n",
              "1829  MicrosoftQnA_74124  ...       2\n",
              "441    MicrosoftQnA_3732  ...       0\n",
              "1708  MicrosoftQnA_46900  ...       2\n",
              "1265  MicrosoftQnA_94193  ...       1\n",
              "941   MicrosoftQnA_34943  ...       1\n",
              "\n",
              "[10 rows x 5 columns]"
            ]
          },
          "metadata": {
            "tags": []
          },
          "execution_count": 22
        }
      ]
    },
    {
      "cell_type": "code",
      "metadata": {
        "id": "criAf7Csz9TR",
        "outputId": "6f452616-537d-4fa2-8ba4-39cc6904a8cd",
        "colab": {
          "base_uri": "https://localhost:8080/",
          "height": 625
        }
      },
      "source": [
        "x = train.groupby('tag1')['title'].count()\n",
        "ax = x.plot(kind='barh', figsize=(8, 10), color='#86bf91', zorder=2, width=0.85)\n",
        "\n",
        "# Despine\n",
        "ax.spines['right'].set_visible(False)\n",
        "ax.spines['top'].set_visible(False)\n",
        "ax.spines['left'].set_visible(False)\n",
        "ax.spines['bottom'].set_visible(False)\n",
        "\n",
        "# Switch off ticks, Draw vertical axis lines, Set axis labels\n",
        "ax.tick_params(axis=\"both\", which=\"both\", bottom=\"off\", top=\"off\", labelbottom=\"on\", left=\"off\", right=\"off\", labelleft=\"on\")\n",
        "vals = ax.get_xticks()\n",
        "\n",
        "for tick in vals:\n",
        "  ax.axvline(x=tick, linestyle='dashed', alpha=0.4, color='#eeeeee', zorder=1)\n",
        "\n",
        "ax.set_xlabel(\"Number of stack overflow questions\", labelpad=20, weight='bold', size=12)\n",
        "ax.set_ylabel(\"Team Tags\", labelpad=20, weight='bold', size=12)\n",
        "ax.xaxis.set_major_formatter(StrMethodFormatter('{x:,g}'))\n"
      ],
      "execution_count": 23,
      "outputs": [
        {
          "output_type": "display_data",
          "data": {
            "image/png": "[encoded data removed]",
            "text/plain": [
              "<Figure size 576x720 with 1 Axes>"
            ]
          },
          "metadata": {
            "tags": [],
            "needs_background": "light"
          }
        }
      ]
    },
    {
      "cell_type": "code",
      "metadata": {
        "id": "aLNW6n770sGG",
        "outputId": "29eb1bbb-7dcd-4f5d-c015-d4c013d54506",
        "colab": {
          "base_uri": "https://localhost:8080/",
          "height": 84
        }
      },
      "source": [
        "#Feature extraction, we’ll compute TF-IDF values.\n",
        "random_state = 0 \n",
        "vec = TfidfVectorizer(stop_words=\"english\")\n",
        "vec.fit(train.title.values)\n",
        "features = vec.transform(train.title.values)\n",
        "\n",
        "# Let’s create an instance of KMeans, issues that belong to one of 4 categories\n",
        "cls = MiniBatchKMeans(n_clusters=4, random_state=random_state)\n",
        "cls.fit(features)"
      ],
      "execution_count": 28,
      "outputs": [
        {
          "output_type": "execute_result",
          "data": {
            "text/plain": [
              "MiniBatchKMeans(batch_size=100, compute_labels=True, init='k-means++',\n",
              "                init_size=None, max_iter=100, max_no_improvement=10,\n",
              "                n_clusters=4, n_init=3, random_state=0, reassignment_ratio=0.01,\n",
              "                tol=0.0, verbose=0)"
            ]
          },
          "metadata": {
            "tags": []
          },
          "execution_count": 28
        }
      ]
    },
    {
      "cell_type": "code",
      "metadata": {
        "id": "-c1_bxTJ6aJ_",
        "outputId": "5894a678-1717-408e-d8c8-70048dcefec0",
        "colab": {
          "base_uri": "https://localhost:8080/",
          "height": 506
        }
      },
      "source": [
        "# predict cluster labels for new dataset\n",
        "cls.predict(features)\n",
        "\n",
        "# to get cluster labels for the dataset used while\n",
        "# training the model (used for models that does not\n",
        "# support prediction on new dataset).\n",
        "cls.labels_\n",
        "\n",
        "# reduce the features to 2D\n",
        "pca = PCA(n_components=2, random_state=random_state)\n",
        "reduced_features = pca.fit_transform(features.toarray())\n",
        "\n",
        "# reduce the cluster centers to 2D\n",
        "reduced_cluster_centers = pca.transform(cls.cluster_centers_)\n",
        "\n",
        "plt.scatter(reduced_features[:,0], reduced_features[:,1], c=cls.predict(features))\n",
        "plt.scatter(reduced_cluster_centers[:, 0], reduced_cluster_centers[:,1], marker='x', s=150, c='b')\n",
        "\n",
        "from sklearn.metrics import homogeneity_score\n",
        "homogeneity = homogeneity_score(train.title, cls.predict(features))\n",
        "print('Homogeneity:' + str(homogeneity))"
      ],
      "execution_count": 30,
      "outputs": [
        {
          "output_type": "stream",
          "text": [
            "Homogeneity:0.10877134736130226\n"
          ],
          "name": "stdout"
        },
        {
          "output_type": "display_data",
          "data": {
            "image/png": "[encoded data removed]",
            "text/plain": [
              "<Figure size 800x550 with 1 Axes>"
            ]
          },
          "metadata": {
            "tags": []
          }
        }
      ]
    }
  ]
}